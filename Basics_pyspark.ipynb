{
  "nbformat": 4,
  "nbformat_minor": 0,
  "metadata": {
    "colab": {
      "provenance": [],
      "authorship_tag": "ABX9TyP4qhAU0Gg68H+OhwpWxWOm",
      "include_colab_link": true
    },
    "kernelspec": {
      "name": "python3",
      "display_name": "Python 3"
    },
    "language_info": {
      "name": "python"
    }
  },
  "cells": [
    {
      "cell_type": "markdown",
      "metadata": {
        "id": "view-in-github",
        "colab_type": "text"
      },
      "source": [
        "<a href=\"https://colab.research.google.com/github/kummari-bharath/PySpark/blob/main/Basics_pyspark.ipynb\" target=\"_parent\"><img src=\"https://colab.research.google.com/assets/colab-badge.svg\" alt=\"Open In Colab\"/></a>"
      ]
    },
    {
      "cell_type": "code",
      "source": [
        "pip install pyspark"
      ],
      "metadata": {
        "colab": {
          "base_uri": "https://localhost:8080/"
        },
        "collapsed": true,
        "id": "a-07Ifet9Seh",
        "outputId": "05789878-abe4-4d64-9375-8cea2e944bd6"
      },
      "execution_count": 2,
      "outputs": [
        {
          "output_type": "stream",
          "name": "stdout",
          "text": [
            "Collecting pyspark\n",
            "  Downloading pyspark-3.5.1.tar.gz (317.0 MB)\n",
            "\u001b[2K     \u001b[90m━━━━━━━━━━━━━━━━━━━━━━━━━━━━━━━━━━━━━━━━\u001b[0m \u001b[32m317.0/317.0 MB\u001b[0m \u001b[31m3.2 MB/s\u001b[0m eta \u001b[36m0:00:00\u001b[0m\n",
            "\u001b[?25h  Preparing metadata (setup.py) ... \u001b[?25l\u001b[?25hdone\n",
            "Requirement already satisfied: py4j==0.10.9.7 in /usr/local/lib/python3.10/dist-packages (from pyspark) (0.10.9.7)\n",
            "Building wheels for collected packages: pyspark\n",
            "  Building wheel for pyspark (setup.py) ... \u001b[?25l\u001b[?25hdone\n",
            "  Created wheel for pyspark: filename=pyspark-3.5.1-py2.py3-none-any.whl size=317488491 sha256=f620254b92ae4b488f5dda33587d200b2cb3fa3669635b76f840ca0ffd7d58ad\n",
            "  Stored in directory: /root/.cache/pip/wheels/80/1d/60/2c256ed38dddce2fdd93be545214a63e02fbd8d74fb0b7f3a6\n",
            "Successfully built pyspark\n",
            "Installing collected packages: pyspark\n",
            "Successfully installed pyspark-3.5.1\n"
          ]
        }
      ]
    },
    {
      "cell_type": "code",
      "execution_count": 7,
      "metadata": {
        "colab": {
          "base_uri": "https://localhost:8080/"
        },
        "id": "ZW3PRqcp7EFR",
        "outputId": "9d58b6ce-8d3a-4fee-9590-0a40f860a6cd"
      },
      "outputs": [
        {
          "output_type": "stream",
          "name": "stdout",
          "text": [
            "+---+---------+------+\n",
            "| id|     name|salary|\n",
            "+---+---------+------+\n",
            "|402|   Neeraj| 59200|\n",
            "|412|   Shayam| 72000|\n",
            "|408|Prashanth| 70000|\n",
            "+---+---------+------+\n",
            "\n"
          ]
        },
        {
          "output_type": "execute_result",
          "data": {
            "text/plain": [
              "6"
            ]
          },
          "metadata": {},
          "execution_count": 7
        }
      ],
      "source": [
        "from pyspark.sql import *\n",
        "from pyspark.context import SparkContext\n",
        "from pyspark.sql.session import SparkSession\n",
        "\n",
        "spark = SparkSession.builder.appName('Pyspark').getOrCreate()\n",
        "\n",
        "data = [(422,'Bharath','ECE',47200),(402,'Neeraj','ECE',59200),(412,'Shayam','ECE IDP',72000),(404,'Preetham','ECE IDDMP',47200),\n",
        "        (408,'Prashanth','LE',70000),(417,'Anvesh','ECE IDP',47200)]\n",
        "\n",
        "columns=['id','Name','Major','Salary']\n",
        "\n",
        "df = spark.createDataFrame(data , schema=columns)\n",
        "\n",
        "df.select('id','name','salary').where(df.Salary>50000).show()\n",
        "\n",
        "df.count()\n"
      ]
    },
    {
      "cell_type": "code",
      "source": [
        "df.where((df.Salary>50000) & (df.Major=='ECE')).show()\n",
        "\n",
        "# renaming the column name\n",
        "df.withColumnRenamed('Name','Full Name').show()\n",
        "\n",
        "df.where(df.Major=='ECE').alias(\"regular\").show()"
      ],
      "metadata": {
        "colab": {
          "base_uri": "https://localhost:8080/"
        },
        "id": "SNyFqgMSy-Dw",
        "outputId": "a9dbed15-1f1b-488d-952a-f7bc6a71b0a4"
      },
      "execution_count": 16,
      "outputs": [
        {
          "output_type": "stream",
          "name": "stdout",
          "text": [
            "+---+------+-----+------+\n",
            "| id|  Name|Major|Salary|\n",
            "+---+------+-----+------+\n",
            "|402|Neeraj|  ECE| 59200|\n",
            "+---+------+-----+------+\n",
            "\n",
            "+---+---------+---------+------+\n",
            "| id|Full Name|    Major|Salary|\n",
            "+---+---------+---------+------+\n",
            "|422|  Bharath|      ECE| 47200|\n",
            "|402|   Neeraj|      ECE| 59200|\n",
            "|412|   Shayam|  ECE IDP| 72000|\n",
            "|404| Preetham|ECE IDDMP| 47200|\n",
            "|408|Prashanth|       LE| 70000|\n",
            "|417|   Anvesh|  ECE IDP| 47200|\n",
            "+---+---------+---------+------+\n",
            "\n",
            "+---+-------+-----+------+\n",
            "| id|   Name|Major|Salary|\n",
            "+---+-------+-----+------+\n",
            "|422|Bharath|  ECE| 47200|\n",
            "|402| Neeraj|  ECE| 59200|\n",
            "+---+-------+-----+------+\n",
            "\n"
          ]
        }
      ]
    }
  ]
}